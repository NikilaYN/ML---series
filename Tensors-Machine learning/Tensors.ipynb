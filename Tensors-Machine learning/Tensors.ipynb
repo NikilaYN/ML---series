{
  "nbformat": 4,
  "nbformat_minor": 0,
  "metadata": {
    "colab": {
      "name": "Copy of Untitled0.ipynb",
      "provenance": [],
      "authorship_tag": "ABX9TyNc6N8SJcBIshARuSvbiyX7",
      "include_colab_link": true
    },
    "kernelspec": {
      "name": "python3",
      "display_name": "Python 3"
    },
    "language_info": {
      "name": "python"
    }
  },
  "cells": [
    {
      "cell_type": "markdown",
      "metadata": {
        "id": "view-in-github",
        "colab_type": "text"
      },
      "source": [
        "<a href=\"https://colab.research.google.com/github/NikilaYN/ML---series/blob/main/Tensors-Machine%20learning/Tensors.ipynb\" target=\"_parent\"><img src=\"https://colab.research.google.com/assets/colab-badge.svg\" alt=\"Open In Colab\"/></a>"
      ]
    },
    {
      "cell_type": "markdown",
      "source": [
        "#Tensors"
      ],
      "metadata": {
        "id": "PXT_1Rc4Lu63"
      }
    },
    {
      "cell_type": "markdown",
      "source": [
        "####0-D tensor (single numbers)"
      ],
      "metadata": {
        "id": "ENKVinLEL392"
      }
    },
    {
      "cell_type": "code",
      "source": [
        "import numpy as np"
      ],
      "metadata": {
        "id": "ES45BNLNVvUT"
      },
      "execution_count": null,
      "outputs": []
    },
    {
      "cell_type": "code",
      "source": [
        "a=np.array(2)"
      ],
      "metadata": {
        "id": "5-mCuOlnP0Ze"
      },
      "execution_count": null,
      "outputs": []
    },
    {
      "cell_type": "code",
      "source": [
        "a"
      ],
      "metadata": {
        "colab": {
          "base_uri": "https://localhost:8080/"
        },
        "id": "HSc469ufKo38",
        "outputId": "4ddfb063-74ec-4184-a0bd-06f71ee12764"
      },
      "execution_count": null,
      "outputs": [
        {
          "output_type": "execute_result",
          "data": {
            "text/plain": [
              "array(2)"
            ]
          },
          "metadata": {},
          "execution_count": 5
        }
      ]
    },
    {
      "cell_type": "code",
      "source": [
        "a.ndim"
      ],
      "metadata": {
        "colab": {
          "base_uri": "https://localhost:8080/"
        },
        "id": "5eNehkSxKsIH",
        "outputId": "16bcca61-783f-4462-cae9-d7faafda6d14"
      },
      "execution_count": null,
      "outputs": [
        {
          "output_type": "execute_result",
          "data": {
            "text/plain": [
              "0"
            ]
          },
          "metadata": {},
          "execution_count": 7
        }
      ]
    },
    {
      "cell_type": "markdown",
      "source": [
        "###1-D tensor (vector)"
      ],
      "metadata": {
        "id": "OML7i7EIMuUT"
      }
    },
    {
      "cell_type": "code",
      "source": [
        "arr=np.array([1,2,3,4])"
      ],
      "metadata": {
        "id": "VmaAHlX5McyA"
      },
      "execution_count": null,
      "outputs": []
    },
    {
      "cell_type": "code",
      "source": [
        "arr"
      ],
      "metadata": {
        "colab": {
          "base_uri": "https://localhost:8080/"
        },
        "id": "azYKHYKrMqt6",
        "outputId": "8fc6d22b-5b3c-4d95-a2eb-3215ec56568d"
      },
      "execution_count": null,
      "outputs": [
        {
          "output_type": "execute_result",
          "data": {
            "text/plain": [
              "array([1, 2, 3, 4])"
            ]
          },
          "metadata": {},
          "execution_count": 10
        }
      ]
    },
    {
      "cell_type": "code",
      "source": [
        "arr.ndim"
      ],
      "metadata": {
        "colab": {
          "base_uri": "https://localhost:8080/"
        },
        "id": "NFr0Z7ecM_s5",
        "outputId": "41b7976d-0621-4954-b1ef-5fea5f9cddf9"
      },
      "execution_count": null,
      "outputs": [
        {
          "output_type": "execute_result",
          "data": {
            "text/plain": [
              "1"
            ]
          },
          "metadata": {},
          "execution_count": 11
        }
      ]
    },
    {
      "cell_type": "markdown",
      "source": [
        "####2-D Tensors(Matrices)"
      ],
      "metadata": {
        "id": "UaRzNYhngwQ0"
      }
    },
    {
      "cell_type": "code",
      "source": [
        "mat=np.array([[1,2,3],[4,5,6],[7,8,9]])"
      ],
      "metadata": {
        "id": "6g1cCKGBequi"
      },
      "execution_count": null,
      "outputs": []
    },
    {
      "cell_type": "code",
      "source": [
        "mat"
      ],
      "metadata": {
        "colab": {
          "base_uri": "https://localhost:8080/"
        },
        "id": "qiR2kVa9fpj6",
        "outputId": "306e21b5-1a7f-4f51-f1f0-b1b1b030963e"
      },
      "execution_count": null,
      "outputs": [
        {
          "output_type": "execute_result",
          "data": {
            "text/plain": [
              "array([[1, 2, 3],\n",
              "       [4, 5, 6],\n",
              "       [7, 8, 9]])"
            ]
          },
          "metadata": {},
          "execution_count": 13
        }
      ]
    },
    {
      "cell_type": "code",
      "source": [
        "mat.ndim"
      ],
      "metadata": {
        "colab": {
          "base_uri": "https://localhost:8080/"
        },
        "id": "i_Q9Q5RHfsrx",
        "outputId": "b9b583b5-93d3-4a05-d5d1-6ec89aed7974"
      },
      "execution_count": null,
      "outputs": [
        {
          "output_type": "execute_result",
          "data": {
            "text/plain": [
              "2"
            ]
          },
          "metadata": {},
          "execution_count": 14
        }
      ]
    },
    {
      "cell_type": "markdown",
      "source": [
        "####3-D tensors"
      ],
      "metadata": {
        "id": "TOLSVapiSGV7"
      }
    },
    {
      "cell_type": "code",
      "source": [
        "mylist=np.array([[[1,2,3],[100,200,300],[4,5,6]],[[7,8,9],[400,500,600],[10,11,12]],[[13,14,15],[700,800,900],[16,17,18]]])"
      ],
      "metadata": {
        "id": "wBXlomGAQm9-"
      },
      "execution_count": null,
      "outputs": []
    },
    {
      "cell_type": "code",
      "source": [
        "mylist"
      ],
      "metadata": {
        "colab": {
          "base_uri": "https://localhost:8080/"
        },
        "id": "LnddvZHISobT",
        "outputId": "f14f5c67-7df8-4820-afb1-8125a56e2409"
      },
      "execution_count": null,
      "outputs": [
        {
          "output_type": "execute_result",
          "data": {
            "text/plain": [
              "array([[[  1,   2,   3],\n",
              "        [100, 200, 300],\n",
              "        [  4,   5,   6]],\n",
              "\n",
              "       [[  7,   8,   9],\n",
              "        [400, 500, 600],\n",
              "        [ 10,  11,  12]],\n",
              "\n",
              "       [[ 13,  14,  15],\n",
              "        [700, 800, 900],\n",
              "        [ 16,  17,  18]]])"
            ]
          },
          "metadata": {},
          "execution_count": 16
        }
      ]
    },
    {
      "cell_type": "code",
      "source": [
        "mylist.ndim"
      ],
      "metadata": {
        "colab": {
          "base_uri": "https://localhost:8080/"
        },
        "id": "7p5HTq0BSuVK",
        "outputId": "75da205f-5a78-4b87-b614-4ab5d7e15268"
      },
      "execution_count": null,
      "outputs": [
        {
          "output_type": "execute_result",
          "data": {
            "text/plain": [
              "3"
            ]
          },
          "metadata": {},
          "execution_count": 17
        }
      ]
    },
    {
      "cell_type": "markdown",
      "source": [
        "####4-D tensors"
      ],
      "metadata": {
        "id": "BFgtqJxAS4di"
      }
    },
    {
      "cell_type": "code",
      "source": [
        "mylist=np.array([[[[1,2,3],[100,200,300],[4,5,6]]],[[[7,8,9],[400,500,600],[10,11,12]]],[[[13,14,15],[700,800,900],[16,17,18]]],[[[19,20,21],[1000,1100,1200],[22,23,24]]],[[[25,26,27],[1300,1400,1500],[28,29,30]]],[[[31,32,33],[1600,1700,1800],[34,35,36]]]])"
      ],
      "metadata": {
        "id": "meHNwpA1S8I1"
      },
      "execution_count": null,
      "outputs": []
    },
    {
      "cell_type": "code",
      "source": [
        "mylist"
      ],
      "metadata": {
        "colab": {
          "base_uri": "https://localhost:8080/"
        },
        "id": "PcmMI7zmXsKI",
        "outputId": "d25bd19f-838a-4800-b72f-5b17ef0e91a4"
      },
      "execution_count": null,
      "outputs": [
        {
          "output_type": "execute_result",
          "data": {
            "text/plain": [
              "array([[[[   1,    2,    3],\n",
              "         [ 100,  200,  300],\n",
              "         [   4,    5,    6]]],\n",
              "\n",
              "\n",
              "       [[[   7,    8,    9],\n",
              "         [ 400,  500,  600],\n",
              "         [  10,   11,   12]]],\n",
              "\n",
              "\n",
              "       [[[  13,   14,   15],\n",
              "         [ 700,  800,  900],\n",
              "         [  16,   17,   18]]],\n",
              "\n",
              "\n",
              "       [[[  19,   20,   21],\n",
              "         [1000, 1100, 1200],\n",
              "         [  22,   23,   24]]],\n",
              "\n",
              "\n",
              "       [[[  25,   26,   27],\n",
              "         [1300, 1400, 1500],\n",
              "         [  28,   29,   30]]],\n",
              "\n",
              "\n",
              "       [[[  31,   32,   33],\n",
              "         [1600, 1700, 1800],\n",
              "         [  34,   35,   36]]]])"
            ]
          },
          "metadata": {},
          "execution_count": 19
        }
      ]
    },
    {
      "cell_type": "code",
      "source": [
        "mylist.ndim"
      ],
      "metadata": {
        "colab": {
          "base_uri": "https://localhost:8080/"
        },
        "id": "a7YGOxveX1wK",
        "outputId": "7c394c9a-cf77-4e43-c439-0399345003be"
      },
      "execution_count": null,
      "outputs": [
        {
          "output_type": "execute_result",
          "data": {
            "text/plain": [
              "4"
            ]
          },
          "metadata": {},
          "execution_count": 20
        }
      ]
    },
    {
      "cell_type": "markdown",
      "source": [
        "####5-D tensors"
      ],
      "metadata": {
        "id": "IkC06Ihvoo8z"
      }
    },
    {
      "cell_type": "code",
      "source": [
        "mylist=np.array([[[[[1,2,3],[100,200,300],[4,5,6]]]],[[[[7,8,9],[400,500,600],[10,11,12]]]],[[[[13,14,15],[700,800,900],[16,17,18]]]],[[[[19,20,21],[1000,1100,1200],[22,23,24]]]],[[[[25,26,27],[1300,1400,1500],[28,29,30]]]],[[[[31,32,33],[1600,1700,1800],[34,35,36]]]]])"
      ],
      "metadata": {
        "id": "HKdeMaHdowF2"
      },
      "execution_count": null,
      "outputs": []
    },
    {
      "cell_type": "code",
      "source": [
        "mylist"
      ],
      "metadata": {
        "colab": {
          "base_uri": "https://localhost:8080/"
        },
        "id": "iqMdgLLFpOLv",
        "outputId": "df108a74-b8fc-4262-dcf4-614daeccd7c2"
      },
      "execution_count": null,
      "outputs": [
        {
          "output_type": "execute_result",
          "data": {
            "text/plain": [
              "array([[[[[   1,    2,    3],\n",
              "          [ 100,  200,  300],\n",
              "          [   4,    5,    6]]]],\n",
              "\n",
              "\n",
              "\n",
              "       [[[[   7,    8,    9],\n",
              "          [ 400,  500,  600],\n",
              "          [  10,   11,   12]]]],\n",
              "\n",
              "\n",
              "\n",
              "       [[[[  13,   14,   15],\n",
              "          [ 700,  800,  900],\n",
              "          [  16,   17,   18]]]],\n",
              "\n",
              "\n",
              "\n",
              "       [[[[  19,   20,   21],\n",
              "          [1000, 1100, 1200],\n",
              "          [  22,   23,   24]]]],\n",
              "\n",
              "\n",
              "\n",
              "       [[[[  25,   26,   27],\n",
              "          [1300, 1400, 1500],\n",
              "          [  28,   29,   30]]]],\n",
              "\n",
              "\n",
              "\n",
              "       [[[[  31,   32,   33],\n",
              "          [1600, 1700, 1800],\n",
              "          [  34,   35,   36]]]]])"
            ]
          },
          "metadata": {},
          "execution_count": 22
        }
      ]
    },
    {
      "cell_type": "code",
      "source": [
        "mylist.ndim"
      ],
      "metadata": {
        "colab": {
          "base_uri": "https://localhost:8080/"
        },
        "id": "NJvzd48gpTJJ",
        "outputId": "16981be3-8b9d-4467-a494-f8a83d2092a3"
      },
      "execution_count": null,
      "outputs": [
        {
          "output_type": "execute_result",
          "data": {
            "text/plain": [
              "5"
            ]
          },
          "metadata": {},
          "execution_count": 23
        }
      ]
    }
  ]
}